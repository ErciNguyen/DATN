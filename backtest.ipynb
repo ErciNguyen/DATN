{
 "cells": [
  {
   "cell_type": "code",
   "execution_count": 1,
   "metadata": {},
   "outputs": [],
   "source": [
    "import pandas as pd\n",
    "import numpy as np\n",
    "import yfinance as yf\n",
    "import matplotlib.pyplot as plt\n",
    "import plotly.graph_objects as go"
   ]
  },
  {
   "cell_type": "code",
   "execution_count": 2,
   "metadata": {},
   "outputs": [
    {
     "name": "stderr",
     "output_type": "stream",
     "text": [
      "[*********************100%%**********************]  1 of 1 completed\n"
     ]
    }
   ],
   "source": [
    "data = yf.download(\"AAPL\", start=\"2020-04-01\", end=\"2024-06-01\")"
   ]
  },
  {
   "cell_type": "code",
   "execution_count": 3,
   "metadata": {},
   "outputs": [
    {
     "data": {
      "text/html": [
       "<div>\n",
       "<style scoped>\n",
       "    .dataframe tbody tr th:only-of-type {\n",
       "        vertical-align: middle;\n",
       "    }\n",
       "\n",
       "    .dataframe tbody tr th {\n",
       "        vertical-align: top;\n",
       "    }\n",
       "\n",
       "    .dataframe thead th {\n",
       "        text-align: right;\n",
       "    }\n",
       "</style>\n",
       "<table border=\"1\" class=\"dataframe\">\n",
       "  <thead>\n",
       "    <tr style=\"text-align: right;\">\n",
       "      <th></th>\n",
       "      <th>Open</th>\n",
       "      <th>High</th>\n",
       "      <th>Low</th>\n",
       "      <th>Close</th>\n",
       "      <th>Adj Close</th>\n",
       "      <th>Volume</th>\n",
       "    </tr>\n",
       "    <tr>\n",
       "      <th>Date</th>\n",
       "      <th></th>\n",
       "      <th></th>\n",
       "      <th></th>\n",
       "      <th></th>\n",
       "      <th></th>\n",
       "      <th></th>\n",
       "    </tr>\n",
       "  </thead>\n",
       "  <tbody>\n",
       "    <tr>\n",
       "      <th>2020-04-01</th>\n",
       "      <td>61.625000</td>\n",
       "      <td>62.180000</td>\n",
       "      <td>59.782501</td>\n",
       "      <td>60.227501</td>\n",
       "      <td>58.660297</td>\n",
       "      <td>176218400</td>\n",
       "    </tr>\n",
       "    <tr>\n",
       "      <th>2020-04-02</th>\n",
       "      <td>60.084999</td>\n",
       "      <td>61.287498</td>\n",
       "      <td>59.224998</td>\n",
       "      <td>61.232498</td>\n",
       "      <td>59.639141</td>\n",
       "      <td>165934000</td>\n",
       "    </tr>\n",
       "    <tr>\n",
       "      <th>2020-04-03</th>\n",
       "      <td>60.700001</td>\n",
       "      <td>61.424999</td>\n",
       "      <td>59.742500</td>\n",
       "      <td>60.352501</td>\n",
       "      <td>58.782047</td>\n",
       "      <td>129880000</td>\n",
       "    </tr>\n",
       "    <tr>\n",
       "      <th>2020-04-06</th>\n",
       "      <td>62.724998</td>\n",
       "      <td>65.777496</td>\n",
       "      <td>62.345001</td>\n",
       "      <td>65.617500</td>\n",
       "      <td>63.910049</td>\n",
       "      <td>201820400</td>\n",
       "    </tr>\n",
       "    <tr>\n",
       "      <th>2020-04-07</th>\n",
       "      <td>67.699997</td>\n",
       "      <td>67.925003</td>\n",
       "      <td>64.750000</td>\n",
       "      <td>64.857498</td>\n",
       "      <td>63.169807</td>\n",
       "      <td>202887200</td>\n",
       "    </tr>\n",
       "  </tbody>\n",
       "</table>\n",
       "</div>"
      ],
      "text/plain": [
       "                 Open       High        Low      Close  Adj Close     Volume\n",
       "Date                                                                        \n",
       "2020-04-01  61.625000  62.180000  59.782501  60.227501  58.660297  176218400\n",
       "2020-04-02  60.084999  61.287498  59.224998  61.232498  59.639141  165934000\n",
       "2020-04-03  60.700001  61.424999  59.742500  60.352501  58.782047  129880000\n",
       "2020-04-06  62.724998  65.777496  62.345001  65.617500  63.910049  201820400\n",
       "2020-04-07  67.699997  67.925003  64.750000  64.857498  63.169807  202887200"
      ]
     },
     "execution_count": 3,
     "metadata": {},
     "output_type": "execute_result"
    }
   ],
   "source": [
    "data.head()"
   ]
  },
  {
   "cell_type": "code",
   "execution_count": 4,
   "metadata": {},
   "outputs": [
    {
     "name": "stdout",
     "output_type": "stream",
     "text": [
      "<class 'pandas.core.frame.DataFrame'>\n",
      "DatetimeIndex: 1049 entries, 2020-04-01 to 2024-05-31\n",
      "Data columns (total 6 columns):\n",
      " #   Column     Non-Null Count  Dtype  \n",
      "---  ------     --------------  -----  \n",
      " 0   Open       1049 non-null   float64\n",
      " 1   High       1049 non-null   float64\n",
      " 2   Low        1049 non-null   float64\n",
      " 3   Close      1049 non-null   float64\n",
      " 4   Adj Close  1049 non-null   float64\n",
      " 5   Volume     1049 non-null   int64  \n",
      "dtypes: float64(5), int64(1)\n",
      "memory usage: 57.4 KB\n"
     ]
    }
   ],
   "source": [
    "data.info()"
   ]
  },
  {
   "cell_type": "code",
   "execution_count": 5,
   "metadata": {},
   "outputs": [],
   "source": [
    "ticker=[\"SPY\"]"
   ]
  },
  {
   "cell_type": "code",
   "execution_count": 6,
   "metadata": {},
   "outputs": [
    {
     "name": "stderr",
     "output_type": "stream",
     "text": [
      "[*********************100%%**********************]  1 of 1 completed\n"
     ]
    }
   ],
   "source": [
    "stocks= yf.download(ticker,start=\"2020-04-01\", end=\"2024-06-01\")"
   ]
  },
  {
   "cell_type": "code",
   "execution_count": 7,
   "metadata": {},
   "outputs": [],
   "source": [
    "stocks.to_csv(\"stockdata.csv\")"
   ]
  },
  {
   "cell_type": "code",
   "execution_count": 8,
   "metadata": {},
   "outputs": [],
   "source": [
    "stocks= pd.read_csv(\"stockdata.csv\", index_col=False)"
   ]
  },
  {
   "cell_type": "code",
   "execution_count": 9,
   "metadata": {},
   "outputs": [
    {
     "data": {
      "text/html": [
       "<div>\n",
       "<style scoped>\n",
       "    .dataframe tbody tr th:only-of-type {\n",
       "        vertical-align: middle;\n",
       "    }\n",
       "\n",
       "    .dataframe tbody tr th {\n",
       "        vertical-align: top;\n",
       "    }\n",
       "\n",
       "    .dataframe thead th {\n",
       "        text-align: right;\n",
       "    }\n",
       "</style>\n",
       "<table border=\"1\" class=\"dataframe\">\n",
       "  <thead>\n",
       "    <tr style=\"text-align: right;\">\n",
       "      <th></th>\n",
       "      <th>Date</th>\n",
       "      <th>Open</th>\n",
       "      <th>High</th>\n",
       "      <th>Low</th>\n",
       "      <th>Close</th>\n",
       "      <th>Adj Close</th>\n",
       "      <th>Volume</th>\n",
       "    </tr>\n",
       "  </thead>\n",
       "  <tbody>\n",
       "    <tr>\n",
       "      <th>0</th>\n",
       "      <td>2020-04-01</td>\n",
       "      <td>247.979996</td>\n",
       "      <td>257.660004</td>\n",
       "      <td>243.899994</td>\n",
       "      <td>246.149994</td>\n",
       "      <td>231.032700</td>\n",
       "      <td>189554600</td>\n",
       "    </tr>\n",
       "    <tr>\n",
       "      <th>1</th>\n",
       "      <td>2020-04-02</td>\n",
       "      <td>245.190002</td>\n",
       "      <td>252.679993</td>\n",
       "      <td>244.589996</td>\n",
       "      <td>251.830002</td>\n",
       "      <td>236.363892</td>\n",
       "      <td>177660400</td>\n",
       "    </tr>\n",
       "    <tr>\n",
       "      <th>2</th>\n",
       "      <td>2020-04-03</td>\n",
       "      <td>250.759995</td>\n",
       "      <td>253.320007</td>\n",
       "      <td>245.220001</td>\n",
       "      <td>248.190002</td>\n",
       "      <td>232.947418</td>\n",
       "      <td>135561200</td>\n",
       "    </tr>\n",
       "    <tr>\n",
       "      <th>3</th>\n",
       "      <td>2020-04-06</td>\n",
       "      <td>257.839996</td>\n",
       "      <td>267.000000</td>\n",
       "      <td>248.169998</td>\n",
       "      <td>264.859985</td>\n",
       "      <td>248.593628</td>\n",
       "      <td>188061200</td>\n",
       "    </tr>\n",
       "    <tr>\n",
       "      <th>4</th>\n",
       "      <td>2020-04-07</td>\n",
       "      <td>274.209991</td>\n",
       "      <td>275.029999</td>\n",
       "      <td>264.890015</td>\n",
       "      <td>265.130005</td>\n",
       "      <td>248.847122</td>\n",
       "      <td>201427200</td>\n",
       "    </tr>\n",
       "    <tr>\n",
       "      <th>...</th>\n",
       "      <td>...</td>\n",
       "      <td>...</td>\n",
       "      <td>...</td>\n",
       "      <td>...</td>\n",
       "      <td>...</td>\n",
       "      <td>...</td>\n",
       "      <td>...</td>\n",
       "    </tr>\n",
       "    <tr>\n",
       "      <th>1044</th>\n",
       "      <td>2024-05-24</td>\n",
       "      <td>527.849976</td>\n",
       "      <td>530.270020</td>\n",
       "      <td>526.880005</td>\n",
       "      <td>529.440002</td>\n",
       "      <td>527.737488</td>\n",
       "      <td>41258400</td>\n",
       "    </tr>\n",
       "    <tr>\n",
       "      <th>1045</th>\n",
       "      <td>2024-05-28</td>\n",
       "      <td>530.270020</td>\n",
       "      <td>530.510010</td>\n",
       "      <td>527.109985</td>\n",
       "      <td>529.809998</td>\n",
       "      <td>528.106262</td>\n",
       "      <td>36269600</td>\n",
       "    </tr>\n",
       "    <tr>\n",
       "      <th>1046</th>\n",
       "      <td>2024-05-29</td>\n",
       "      <td>525.679993</td>\n",
       "      <td>527.309998</td>\n",
       "      <td>525.369995</td>\n",
       "      <td>526.099976</td>\n",
       "      <td>524.408203</td>\n",
       "      <td>45190300</td>\n",
       "    </tr>\n",
       "    <tr>\n",
       "      <th>1047</th>\n",
       "      <td>2024-05-30</td>\n",
       "      <td>524.520020</td>\n",
       "      <td>525.200012</td>\n",
       "      <td>521.330017</td>\n",
       "      <td>522.609985</td>\n",
       "      <td>520.929382</td>\n",
       "      <td>46468500</td>\n",
       "    </tr>\n",
       "    <tr>\n",
       "      <th>1048</th>\n",
       "      <td>2024-05-31</td>\n",
       "      <td>523.590027</td>\n",
       "      <td>527.500000</td>\n",
       "      <td>518.359985</td>\n",
       "      <td>527.369995</td>\n",
       "      <td>525.674133</td>\n",
       "      <td>90785800</td>\n",
       "    </tr>\n",
       "  </tbody>\n",
       "</table>\n",
       "<p>1049 rows × 7 columns</p>\n",
       "</div>"
      ],
      "text/plain": [
       "            Date        Open        High         Low       Close   Adj Close  \\\n",
       "0     2020-04-01  247.979996  257.660004  243.899994  246.149994  231.032700   \n",
       "1     2020-04-02  245.190002  252.679993  244.589996  251.830002  236.363892   \n",
       "2     2020-04-03  250.759995  253.320007  245.220001  248.190002  232.947418   \n",
       "3     2020-04-06  257.839996  267.000000  248.169998  264.859985  248.593628   \n",
       "4     2020-04-07  274.209991  275.029999  264.890015  265.130005  248.847122   \n",
       "...          ...         ...         ...         ...         ...         ...   \n",
       "1044  2024-05-24  527.849976  530.270020  526.880005  529.440002  527.737488   \n",
       "1045  2024-05-28  530.270020  530.510010  527.109985  529.809998  528.106262   \n",
       "1046  2024-05-29  525.679993  527.309998  525.369995  526.099976  524.408203   \n",
       "1047  2024-05-30  524.520020  525.200012  521.330017  522.609985  520.929382   \n",
       "1048  2024-05-31  523.590027  527.500000  518.359985  527.369995  525.674133   \n",
       "\n",
       "         Volume  \n",
       "0     189554600  \n",
       "1     177660400  \n",
       "2     135561200  \n",
       "3     188061200  \n",
       "4     201427200  \n",
       "...         ...  \n",
       "1044   41258400  \n",
       "1045   36269600  \n",
       "1046   45190300  \n",
       "1047   46468500  \n",
       "1048   90785800  \n",
       "\n",
       "[1049 rows x 7 columns]"
      ]
     },
     "execution_count": 9,
     "metadata": {},
     "output_type": "execute_result"
    }
   ],
   "source": [
    "stocks"
   ]
  },
  {
   "cell_type": "code",
   "execution_count": 10,
   "metadata": {},
   "outputs": [
    {
     "data": {
      "text/plain": [
       "Index(['Date', 'Open', 'High', 'Low', 'Close', 'Adj Close', 'Volume'], dtype='object')"
      ]
     },
     "execution_count": 10,
     "metadata": {},
     "output_type": "execute_result"
    }
   ],
   "source": [
    "stocks.columns"
   ]
  },
  {
   "cell_type": "code",
   "execution_count": 11,
   "metadata": {},
   "outputs": [
    {
     "data": {
      "text/html": [
       "<div>\n",
       "<style scoped>\n",
       "    .dataframe tbody tr th:only-of-type {\n",
       "        vertical-align: middle;\n",
       "    }\n",
       "\n",
       "    .dataframe tbody tr th {\n",
       "        vertical-align: top;\n",
       "    }\n",
       "\n",
       "    .dataframe thead th {\n",
       "        text-align: right;\n",
       "    }\n",
       "</style>\n",
       "<table border=\"1\" class=\"dataframe\">\n",
       "  <thead>\n",
       "    <tr style=\"text-align: right;\">\n",
       "      <th></th>\n",
       "      <th>Open</th>\n",
       "      <th>High</th>\n",
       "      <th>Low</th>\n",
       "      <th>Close</th>\n",
       "      <th>Adj Close</th>\n",
       "      <th>Volume</th>\n",
       "    </tr>\n",
       "  </thead>\n",
       "  <tbody>\n",
       "    <tr>\n",
       "      <th>count</th>\n",
       "      <td>1049.000000</td>\n",
       "      <td>1049.000000</td>\n",
       "      <td>1049.000000</td>\n",
       "      <td>1049.000000</td>\n",
       "      <td>1049.000000</td>\n",
       "      <td>1.049000e+03</td>\n",
       "    </tr>\n",
       "    <tr>\n",
       "      <th>mean</th>\n",
       "      <td>412.059828</td>\n",
       "      <td>414.547769</td>\n",
       "      <td>409.375148</td>\n",
       "      <td>412.140592</td>\n",
       "      <td>399.478483</td>\n",
       "      <td>8.211467e+07</td>\n",
       "    </tr>\n",
       "    <tr>\n",
       "      <th>std</th>\n",
       "      <td>54.963333</td>\n",
       "      <td>54.718900</td>\n",
       "      <td>55.192976</td>\n",
       "      <td>54.983727</td>\n",
       "      <td>58.441930</td>\n",
       "      <td>2.973934e+07</td>\n",
       "    </tr>\n",
       "    <tr>\n",
       "      <th>min</th>\n",
       "      <td>245.190002</td>\n",
       "      <td>252.679993</td>\n",
       "      <td>243.899994</td>\n",
       "      <td>246.149994</td>\n",
       "      <td>231.032700</td>\n",
       "      <td>2.645790e+07</td>\n",
       "    </tr>\n",
       "    <tr>\n",
       "      <th>25%</th>\n",
       "      <td>381.809998</td>\n",
       "      <td>384.950012</td>\n",
       "      <td>378.670013</td>\n",
       "      <td>381.720001</td>\n",
       "      <td>368.527466</td>\n",
       "      <td>6.159540e+07</td>\n",
       "    </tr>\n",
       "    <tr>\n",
       "      <th>50%</th>\n",
       "      <td>415.239990</td>\n",
       "      <td>417.329987</td>\n",
       "      <td>412.399994</td>\n",
       "      <td>415.279999</td>\n",
       "      <td>402.464661</td>\n",
       "      <td>7.623860e+07</td>\n",
       "    </tr>\n",
       "    <tr>\n",
       "      <th>75%</th>\n",
       "      <td>447.119995</td>\n",
       "      <td>449.200012</td>\n",
       "      <td>444.700012</td>\n",
       "      <td>446.970001</td>\n",
       "      <td>434.115112</td>\n",
       "      <td>9.572920e+07</td>\n",
       "    </tr>\n",
       "    <tr>\n",
       "      <th>max</th>\n",
       "      <td>532.960022</td>\n",
       "      <td>533.070007</td>\n",
       "      <td>529.169983</td>\n",
       "      <td>531.359985</td>\n",
       "      <td>529.651245</td>\n",
       "      <td>2.517839e+08</td>\n",
       "    </tr>\n",
       "  </tbody>\n",
       "</table>\n",
       "</div>"
      ],
      "text/plain": [
       "              Open         High          Low        Close    Adj Close  \\\n",
       "count  1049.000000  1049.000000  1049.000000  1049.000000  1049.000000   \n",
       "mean    412.059828   414.547769   409.375148   412.140592   399.478483   \n",
       "std      54.963333    54.718900    55.192976    54.983727    58.441930   \n",
       "min     245.190002   252.679993   243.899994   246.149994   231.032700   \n",
       "25%     381.809998   384.950012   378.670013   381.720001   368.527466   \n",
       "50%     415.239990   417.329987   412.399994   415.279999   402.464661   \n",
       "75%     447.119995   449.200012   444.700012   446.970001   434.115112   \n",
       "max     532.960022   533.070007   529.169983   531.359985   529.651245   \n",
       "\n",
       "             Volume  \n",
       "count  1.049000e+03  \n",
       "mean   8.211467e+07  \n",
       "std    2.973934e+07  \n",
       "min    2.645790e+07  \n",
       "25%    6.159540e+07  \n",
       "50%    7.623860e+07  \n",
       "75%    9.572920e+07  \n",
       "max    2.517839e+08  "
      ]
     },
     "execution_count": 11,
     "metadata": {},
     "output_type": "execute_result"
    }
   ],
   "source": [
    "stocks.describe()"
   ]
  },
  {
   "cell_type": "code",
   "execution_count": 12,
   "metadata": {},
   "outputs": [],
   "source": [
    "stocks['mid_o'] = stocks['Open']+ stocks['Close']/2\n",
    "stocks['mid_h'] = stocks['High']+ stocks['Low']/2\n",
    "stocks['mid_c'] = stocks['Low']+ stocks['Close']/2\n",
    "stocks['mid_l'] = stocks['Close']+ stocks['Open']/2"
   ]
  },
  {
   "cell_type": "code",
   "execution_count": 13,
   "metadata": {},
   "outputs": [],
   "source": [
    "price_bins= [0,500,520,np.inf]\n",
    "price_labels= ['low','medium','high']\n",
    "stocks['bin_o'] =pd.cut(stocks['Open'], bins=price_bins, labels=price_labels)\n",
    "stocks['bin_h'] =pd.cut(stocks['High'], bins=price_bins, labels=price_labels)\n",
    "stocks['bin_l'] =pd.cut(stocks['Low'], bins=price_bins, labels=price_labels)\n",
    "stocks['bin_c'] =pd.cut(stocks['Close'], bins=price_bins, labels=price_labels)"
   ]
  },
  {
   "cell_type": "code",
   "execution_count": 14,
   "metadata": {},
   "outputs": [],
   "source": [
    "ask_percentage= 0.001\n",
    "stocks['ask_o'] = stocks['Open']* (1+ask_percentage)\n",
    "stocks['ask_h'] = stocks['High']* (1+ask_percentage)\n",
    "stocks['ask_l'] = stocks['Low']* (1+ask_percentage)\n",
    "stocks['ask_c'] = stocks['Close']* (1+ask_percentage)"
   ]
  },
  {
   "cell_type": "code",
   "execution_count": 15,
   "metadata": {},
   "outputs": [],
   "source": [
    "stocks.to_csv(\"stockdata.csv\")"
   ]
  },
  {
   "cell_type": "code",
   "execution_count": 16,
   "metadata": {},
   "outputs": [],
   "source": [
    "stocks= pd.read_csv(\"stock.csv\", index_col=False)\n",
    "stocks.drop(columns=['Adj Close'], inplace=True)"
   ]
  },
  {
   "cell_type": "code",
   "execution_count": 17,
   "metadata": {},
   "outputs": [
    {
     "data": {
      "text/html": [
       "<div>\n",
       "<style scoped>\n",
       "    .dataframe tbody tr th:only-of-type {\n",
       "        vertical-align: middle;\n",
       "    }\n",
       "\n",
       "    .dataframe tbody tr th {\n",
       "        vertical-align: top;\n",
       "    }\n",
       "\n",
       "    .dataframe thead th {\n",
       "        text-align: right;\n",
       "    }\n",
       "</style>\n",
       "<table border=\"1\" class=\"dataframe\">\n",
       "  <thead>\n",
       "    <tr style=\"text-align: right;\">\n",
       "      <th></th>\n",
       "      <th>Date</th>\n",
       "      <th>Open</th>\n",
       "      <th>High</th>\n",
       "      <th>Low</th>\n",
       "      <th>Close</th>\n",
       "      <th>Volume</th>\n",
       "      <th>mid_o</th>\n",
       "      <th>bin_o</th>\n",
       "      <th>bin_h</th>\n",
       "      <th>bin_l</th>\n",
       "      <th>bin_c</th>\n",
       "      <th>mid_h</th>\n",
       "      <th>mid_c</th>\n",
       "      <th>mid_l</th>\n",
       "      <th>ask_o</th>\n",
       "      <th>ask_h</th>\n",
       "      <th>ask_l</th>\n",
       "      <th>ask_c</th>\n",
       "    </tr>\n",
       "  </thead>\n",
       "  <tbody>\n",
       "    <tr>\n",
       "      <th>0</th>\n",
       "      <td>2024-04-01</td>\n",
       "      <td>523.830017</td>\n",
       "      <td>524.380005</td>\n",
       "      <td>520.969971</td>\n",
       "      <td>522.159973</td>\n",
       "      <td>62477500</td>\n",
       "      <td>784.910004</td>\n",
       "      <td>high</td>\n",
       "      <td>high</td>\n",
       "      <td>high</td>\n",
       "      <td>high</td>\n",
       "      <td>784.864990</td>\n",
       "      <td>782.049957</td>\n",
       "      <td>784.074982</td>\n",
       "      <td>524.353847</td>\n",
       "      <td>524.904385</td>\n",
       "      <td>521.490941</td>\n",
       "      <td>522.682133</td>\n",
       "    </tr>\n",
       "    <tr>\n",
       "      <th>1</th>\n",
       "      <td>2024-04-02</td>\n",
       "      <td>518.239990</td>\n",
       "      <td>518.979980</td>\n",
       "      <td>516.479980</td>\n",
       "      <td>518.840027</td>\n",
       "      <td>74230300</td>\n",
       "      <td>777.660004</td>\n",
       "      <td>medium</td>\n",
       "      <td>medium</td>\n",
       "      <td>medium</td>\n",
       "      <td>medium</td>\n",
       "      <td>777.219971</td>\n",
       "      <td>775.899994</td>\n",
       "      <td>777.960022</td>\n",
       "      <td>518.758230</td>\n",
       "      <td>519.498960</td>\n",
       "      <td>516.996460</td>\n",
       "      <td>519.358867</td>\n",
       "    </tr>\n",
       "    <tr>\n",
       "      <th>2</th>\n",
       "      <td>2024-04-03</td>\n",
       "      <td>517.719971</td>\n",
       "      <td>520.950012</td>\n",
       "      <td>517.669983</td>\n",
       "      <td>519.409973</td>\n",
       "      <td>59155800</td>\n",
       "      <td>777.424957</td>\n",
       "      <td>medium</td>\n",
       "      <td>high</td>\n",
       "      <td>medium</td>\n",
       "      <td>medium</td>\n",
       "      <td>779.785004</td>\n",
       "      <td>777.374969</td>\n",
       "      <td>778.269958</td>\n",
       "      <td>518.237691</td>\n",
       "      <td>521.470962</td>\n",
       "      <td>518.187653</td>\n",
       "      <td>519.929383</td>\n",
       "    </tr>\n",
       "    <tr>\n",
       "      <th>3</th>\n",
       "      <td>2024-04-04</td>\n",
       "      <td>523.520020</td>\n",
       "      <td>523.869995</td>\n",
       "      <td>512.760010</td>\n",
       "      <td>513.070007</td>\n",
       "      <td>96858100</td>\n",
       "      <td>780.055023</td>\n",
       "      <td>high</td>\n",
       "      <td>high</td>\n",
       "      <td>medium</td>\n",
       "      <td>medium</td>\n",
       "      <td>780.250000</td>\n",
       "      <td>769.295013</td>\n",
       "      <td>774.830017</td>\n",
       "      <td>524.043540</td>\n",
       "      <td>524.393865</td>\n",
       "      <td>513.272770</td>\n",
       "      <td>513.583077</td>\n",
       "    </tr>\n",
       "    <tr>\n",
       "      <th>4</th>\n",
       "      <td>2024-04-05</td>\n",
       "      <td>514.460022</td>\n",
       "      <td>520.440002</td>\n",
       "      <td>514.010010</td>\n",
       "      <td>518.429993</td>\n",
       "      <td>74482100</td>\n",
       "      <td>773.675018</td>\n",
       "      <td>medium</td>\n",
       "      <td>high</td>\n",
       "      <td>medium</td>\n",
       "      <td>medium</td>\n",
       "      <td>777.445007</td>\n",
       "      <td>773.225006</td>\n",
       "      <td>775.660004</td>\n",
       "      <td>514.974482</td>\n",
       "      <td>520.960442</td>\n",
       "      <td>514.524020</td>\n",
       "      <td>518.948423</td>\n",
       "    </tr>\n",
       "  </tbody>\n",
       "</table>\n",
       "</div>"
      ],
      "text/plain": [
       "         Date        Open        High         Low       Close    Volume  \\\n",
       "0  2024-04-01  523.830017  524.380005  520.969971  522.159973  62477500   \n",
       "1  2024-04-02  518.239990  518.979980  516.479980  518.840027  74230300   \n",
       "2  2024-04-03  517.719971  520.950012  517.669983  519.409973  59155800   \n",
       "3  2024-04-04  523.520020  523.869995  512.760010  513.070007  96858100   \n",
       "4  2024-04-05  514.460022  520.440002  514.010010  518.429993  74482100   \n",
       "\n",
       "        mid_o   bin_o   bin_h   bin_l   bin_c       mid_h       mid_c  \\\n",
       "0  784.910004    high    high    high    high  784.864990  782.049957   \n",
       "1  777.660004  medium  medium  medium  medium  777.219971  775.899994   \n",
       "2  777.424957  medium    high  medium  medium  779.785004  777.374969   \n",
       "3  780.055023    high    high  medium  medium  780.250000  769.295013   \n",
       "4  773.675018  medium    high  medium  medium  777.445007  773.225006   \n",
       "\n",
       "        mid_l       ask_o       ask_h       ask_l       ask_c  \n",
       "0  784.074982  524.353847  524.904385  521.490941  522.682133  \n",
       "1  777.960022  518.758230  519.498960  516.996460  519.358867  \n",
       "2  778.269958  518.237691  521.470962  518.187653  519.929383  \n",
       "3  774.830017  524.043540  524.393865  513.272770  513.583077  \n",
       "4  775.660004  514.974482  520.960442  514.524020  518.948423  "
      ]
     },
     "execution_count": 17,
     "metadata": {},
     "output_type": "execute_result"
    }
   ],
   "source": [
    "stocks.head()"
   ]
  },
  {
   "cell_type": "code",
   "execution_count": 18,
   "metadata": {},
   "outputs": [
    {
     "name": "stdout",
     "output_type": "stream",
     "text": [
      "<class 'pandas.core.frame.DataFrame'>\n",
      "RangeIndex: 44 entries, 0 to 43\n",
      "Data columns (total 18 columns):\n",
      " #   Column  Non-Null Count  Dtype  \n",
      "---  ------  --------------  -----  \n",
      " 0   Date    44 non-null     object \n",
      " 1   Open    44 non-null     float64\n",
      " 2   High    44 non-null     float64\n",
      " 3   Low     44 non-null     float64\n",
      " 4   Close   44 non-null     float64\n",
      " 5   Volume  44 non-null     int64  \n",
      " 6   mid_o   44 non-null     float64\n",
      " 7   bin_o   44 non-null     object \n",
      " 8   bin_h   44 non-null     object \n",
      " 9   bin_l   44 non-null     object \n",
      " 10  bin_c   44 non-null     object \n",
      " 11  mid_h   44 non-null     float64\n",
      " 12  mid_c   44 non-null     float64\n",
      " 13  mid_l   44 non-null     float64\n",
      " 14  ask_o   44 non-null     float64\n",
      " 15  ask_h   44 non-null     float64\n",
      " 16  ask_l   44 non-null     float64\n",
      " 17  ask_c   44 non-null     float64\n",
      "dtypes: float64(12), int64(1), object(5)\n",
      "memory usage: 6.3+ KB\n"
     ]
    }
   ],
   "source": [
    "stocks.info()"
   ]
  },
  {
   "cell_type": "code",
   "execution_count": 19,
   "metadata": {},
   "outputs": [],
   "source": [
    "stocks_flot = stocks.iloc[-100:].copy()"
   ]
  },
  {
   "cell_type": "code",
   "execution_count": 20,
   "metadata": {},
   "outputs": [
    {
     "data": {
      "text/plain": [
       "(44, 18)"
      ]
     },
     "execution_count": 20,
     "metadata": {},
     "output_type": "execute_result"
    }
   ],
   "source": [
    "stocks_flot.shape"
   ]
  },
  {
   "cell_type": "code",
   "execution_count": 21,
   "metadata": {},
   "outputs": [
    {
     "name": "stdout",
     "output_type": "stream",
     "text": [
      "<class 'pandas.core.frame.DataFrame'>\n",
      "RangeIndex: 44 entries, 0 to 43\n",
      "Data columns (total 18 columns):\n",
      " #   Column  Non-Null Count  Dtype  \n",
      "---  ------  --------------  -----  \n",
      " 0   Date    44 non-null     object \n",
      " 1   Open    44 non-null     float64\n",
      " 2   High    44 non-null     float64\n",
      " 3   Low     44 non-null     float64\n",
      " 4   Close   44 non-null     float64\n",
      " 5   Volume  44 non-null     int64  \n",
      " 6   mid_o   44 non-null     float64\n",
      " 7   bin_o   44 non-null     object \n",
      " 8   bin_h   44 non-null     object \n",
      " 9   bin_l   44 non-null     object \n",
      " 10  bin_c   44 non-null     object \n",
      " 11  mid_h   44 non-null     float64\n",
      " 12  mid_c   44 non-null     float64\n",
      " 13  mid_l   44 non-null     float64\n",
      " 14  ask_o   44 non-null     float64\n",
      " 15  ask_h   44 non-null     float64\n",
      " 16  ask_l   44 non-null     float64\n",
      " 17  ask_c   44 non-null     float64\n",
      "dtypes: float64(12), int64(1), object(5)\n",
      "memory usage: 6.3+ KB\n"
     ]
    }
   ],
   "source": [
    "stocks_flot.info()"
   ]
  },
  {
   "cell_type": "code",
   "execution_count": 22,
   "metadata": {},
   "outputs": [
    {
     "data": {
      "application/vnd.plotly.v1+json": {
       "config": {
        "plotlyServerURL": "https://plot.ly"
       },
       "data": [
        {
         "close": [
          782.0499572753906,
          775.8999938964844,
          777.3749694824219,
          769.2950134277344,
          773.2250061035156,
          777.25,
          774.0099792480469,
          769.1500244140625,
          771.0800170898438,
          764.5049896240234,
          755.8049926757812,
          753.9749908447266,
          749.3949890136719,
          748.3199920654297,
          741.4399871826172,
          745.2899932861328,
          752.3549957275391,
          755.8350067138672,
          749.2349853515625,
          759.8300170898438,
          762.2799987792969,
          752.9700164794922,
          750.0449981689453,
          752.0649871826172,
          764.2050018310547,
          771.5849914550781,
          775.02001953125,
          773.7350158691406,
          776.7950134277344,
          780.0100402832031,
          780.1949768066406,
          782.2099914550781,
          790.0700073242188,
          792.8849792480469,
          792.0450134277344,
          794.1999816894531,
          794.75,
          792.5149841308594,
          787.6999816894531,
          791.6000061035156,
          792.0149841308594,
          788.4199829101562,
          782.635009765625,
          782.0449829101562
         ],
         "high": [
          784.864990234375,
          777.219970703125,
          779.7850036621094,
          780.25,
          777.4450073242188,
          779.125,
          777.9249877929688,
          772.2049865722656,
          775.5199890136719,
          770.3600006103516,
          767.0899810791016,
          757.6049957275391,
          755.7799987792969,
          753.4100036621094,
          747.3899841308594,
          750.0950012207031,
          755.8549957275391,
          758.9349975585938,
          753.0149841308594,
          762.7300109863281,
          764.375,
          760.5500030517578,
          758.125,
          755.6650085449219,
          766.8299865722656,
          773.2599792480469,
          776.7950134277344,
          775.3099975585938,
          778.5650329589844,
          782.4350280761719,
          782.5399780273438,
          784.1100158691406,
          792.6700134277344,
          795.7900085449219,
          793.1800231933594,
          796.1449890136719,
          796.0550231933594,
          795.1799926757812,
          795.4299926757812,
          793.7100219726562,
          794.0650024414062,
          789.9949951171875,
          785.8650207519531,
          786.6799926757812
         ],
         "low": [
          784.0749816894531,
          777.9600219726562,
          778.2699584960938,
          774.8300170898438,
          775.6600036621094,
          778.2949829101562,
          779.5700073242188,
          770.8599853515625,
          775.8399963378906,
          768.0350036621094,
          762.0150146484375,
          756,
          753.5749816894532,
          750.5099945068359,
          744.8800048828125,
          748.6349945068359,
          756.5399932861328,
          758.6900024414062,
          753.0799865722656,
          761.4350128173828,
          765.1049957275391,
          756.260009765625,
          751.0400085449219,
          757.1049957275391,
          766.8700103759766,
          773.4450073242188,
          775.9200134277344,
          774.8200073242188,
          778.8599853515625,
          781.7450256347656,
          782.1899719238281,
          783.85498046875,
          792.6950378417969,
          793.6300048828125,
          793.8550109863281,
          794.8450012207031,
          796,
          795.155029296875,
          792.4400329589844,
          793.364990234375,
          794.9450073242188,
          788.9399719238281,
          784.8699951171875,
          789.1650085449219
         ],
         "open": [
          784.9100036621094,
          777.6600036621094,
          777.4249572753906,
          780.0550231933594,
          773.6750183105469,
          778.510009765625,
          780.1600036621094,
          770.5399780273438,
          774.6799926757812,
          769.7949981689453,
          767.3550109863281,
          756.7050018310547,
          756.3249816894532,
          751.7400054931641,
          747.0200042724609,
          747.6899871826172,
          754.6049957275391,
          759.2649993896484,
          750.9249877929688,
          760.4800109863281,
          765.1199951171875,
          759.5500030517578,
          751.5550079345703,
          756.6649932861328,
          766.8050079345703,
          772.0350036621094,
          776.1300048828125,
          773.8550109863281,
          777.4649963378906,
          782.2300109863281,
          783.0149841308594,
          782.7599792480469,
          790.7200317382812,
          794.2250061035156,
          793.5350036621094,
          794.6000061035156,
          794.9600219726562,
          795.5650329589844,
          795.9400329589844,
          792.5699768066406,
          795.1750183105469,
          788.72998046875,
          785.8250122070312,
          787.2750244140625
         ],
         "type": "candlestick",
         "x": [
          "2024-04-01",
          "2024-04-02",
          "2024-04-03",
          "2024-04-04",
          "2024-04-05",
          "2024-04-08",
          "2024-04-09",
          "2024-04-10",
          "2024-04-11",
          "2024-04-12",
          "2024-04-15",
          "2024-04-16",
          "2024-04-17",
          "2024-04-18",
          "2024-04-19",
          "2024-04-22",
          "2024-04-23",
          "2024-04-24",
          "2024-04-25",
          "2024-04-26",
          "2024-04-29",
          "2024-04-30",
          "2024-05-01",
          "2024-05-02",
          "2024-05-03",
          "2024-05-06",
          "2024-05-07",
          "2024-05-08",
          "2024-05-09",
          "2024-05-10",
          "2024-05-13",
          "2024-05-14",
          "2024-05-15",
          "2024-05-16",
          "2024-05-17",
          "2024-05-20",
          "2024-05-21",
          "2024-05-22",
          "2024-05-23",
          "2024-05-24",
          "2024-05-28",
          "2024-05-29",
          "2024-05-30",
          "2024-05-31"
         ]
        }
       ],
       "layout": {
        "template": {
         "data": {
          "bar": [
           {
            "error_x": {
             "color": "#2a3f5f"
            },
            "error_y": {
             "color": "#2a3f5f"
            },
            "marker": {
             "line": {
              "color": "#E5ECF6",
              "width": 0.5
             },
             "pattern": {
              "fillmode": "overlay",
              "size": 10,
              "solidity": 0.2
             }
            },
            "type": "bar"
           }
          ],
          "barpolar": [
           {
            "marker": {
             "line": {
              "color": "#E5ECF6",
              "width": 0.5
             },
             "pattern": {
              "fillmode": "overlay",
              "size": 10,
              "solidity": 0.2
             }
            },
            "type": "barpolar"
           }
          ],
          "carpet": [
           {
            "aaxis": {
             "endlinecolor": "#2a3f5f",
             "gridcolor": "white",
             "linecolor": "white",
             "minorgridcolor": "white",
             "startlinecolor": "#2a3f5f"
            },
            "baxis": {
             "endlinecolor": "#2a3f5f",
             "gridcolor": "white",
             "linecolor": "white",
             "minorgridcolor": "white",
             "startlinecolor": "#2a3f5f"
            },
            "type": "carpet"
           }
          ],
          "choropleth": [
           {
            "colorbar": {
             "outlinewidth": 0,
             "ticks": ""
            },
            "type": "choropleth"
           }
          ],
          "contour": [
           {
            "colorbar": {
             "outlinewidth": 0,
             "ticks": ""
            },
            "colorscale": [
             [
              0,
              "#0d0887"
             ],
             [
              0.1111111111111111,
              "#46039f"
             ],
             [
              0.2222222222222222,
              "#7201a8"
             ],
             [
              0.3333333333333333,
              "#9c179e"
             ],
             [
              0.4444444444444444,
              "#bd3786"
             ],
             [
              0.5555555555555556,
              "#d8576b"
             ],
             [
              0.6666666666666666,
              "#ed7953"
             ],
             [
              0.7777777777777778,
              "#fb9f3a"
             ],
             [
              0.8888888888888888,
              "#fdca26"
             ],
             [
              1,
              "#f0f921"
             ]
            ],
            "type": "contour"
           }
          ],
          "contourcarpet": [
           {
            "colorbar": {
             "outlinewidth": 0,
             "ticks": ""
            },
            "type": "contourcarpet"
           }
          ],
          "heatmap": [
           {
            "colorbar": {
             "outlinewidth": 0,
             "ticks": ""
            },
            "colorscale": [
             [
              0,
              "#0d0887"
             ],
             [
              0.1111111111111111,
              "#46039f"
             ],
             [
              0.2222222222222222,
              "#7201a8"
             ],
             [
              0.3333333333333333,
              "#9c179e"
             ],
             [
              0.4444444444444444,
              "#bd3786"
             ],
             [
              0.5555555555555556,
              "#d8576b"
             ],
             [
              0.6666666666666666,
              "#ed7953"
             ],
             [
              0.7777777777777778,
              "#fb9f3a"
             ],
             [
              0.8888888888888888,
              "#fdca26"
             ],
             [
              1,
              "#f0f921"
             ]
            ],
            "type": "heatmap"
           }
          ],
          "heatmapgl": [
           {
            "colorbar": {
             "outlinewidth": 0,
             "ticks": ""
            },
            "colorscale": [
             [
              0,
              "#0d0887"
             ],
             [
              0.1111111111111111,
              "#46039f"
             ],
             [
              0.2222222222222222,
              "#7201a8"
             ],
             [
              0.3333333333333333,
              "#9c179e"
             ],
             [
              0.4444444444444444,
              "#bd3786"
             ],
             [
              0.5555555555555556,
              "#d8576b"
             ],
             [
              0.6666666666666666,
              "#ed7953"
             ],
             [
              0.7777777777777778,
              "#fb9f3a"
             ],
             [
              0.8888888888888888,
              "#fdca26"
             ],
             [
              1,
              "#f0f921"
             ]
            ],
            "type": "heatmapgl"
           }
          ],
          "histogram": [
           {
            "marker": {
             "pattern": {
              "fillmode": "overlay",
              "size": 10,
              "solidity": 0.2
             }
            },
            "type": "histogram"
           }
          ],
          "histogram2d": [
           {
            "colorbar": {
             "outlinewidth": 0,
             "ticks": ""
            },
            "colorscale": [
             [
              0,
              "#0d0887"
             ],
             [
              0.1111111111111111,
              "#46039f"
             ],
             [
              0.2222222222222222,
              "#7201a8"
             ],
             [
              0.3333333333333333,
              "#9c179e"
             ],
             [
              0.4444444444444444,
              "#bd3786"
             ],
             [
              0.5555555555555556,
              "#d8576b"
             ],
             [
              0.6666666666666666,
              "#ed7953"
             ],
             [
              0.7777777777777778,
              "#fb9f3a"
             ],
             [
              0.8888888888888888,
              "#fdca26"
             ],
             [
              1,
              "#f0f921"
             ]
            ],
            "type": "histogram2d"
           }
          ],
          "histogram2dcontour": [
           {
            "colorbar": {
             "outlinewidth": 0,
             "ticks": ""
            },
            "colorscale": [
             [
              0,
              "#0d0887"
             ],
             [
              0.1111111111111111,
              "#46039f"
             ],
             [
              0.2222222222222222,
              "#7201a8"
             ],
             [
              0.3333333333333333,
              "#9c179e"
             ],
             [
              0.4444444444444444,
              "#bd3786"
             ],
             [
              0.5555555555555556,
              "#d8576b"
             ],
             [
              0.6666666666666666,
              "#ed7953"
             ],
             [
              0.7777777777777778,
              "#fb9f3a"
             ],
             [
              0.8888888888888888,
              "#fdca26"
             ],
             [
              1,
              "#f0f921"
             ]
            ],
            "type": "histogram2dcontour"
           }
          ],
          "mesh3d": [
           {
            "colorbar": {
             "outlinewidth": 0,
             "ticks": ""
            },
            "type": "mesh3d"
           }
          ],
          "parcoords": [
           {
            "line": {
             "colorbar": {
              "outlinewidth": 0,
              "ticks": ""
             }
            },
            "type": "parcoords"
           }
          ],
          "pie": [
           {
            "automargin": true,
            "type": "pie"
           }
          ],
          "scatter": [
           {
            "fillpattern": {
             "fillmode": "overlay",
             "size": 10,
             "solidity": 0.2
            },
            "type": "scatter"
           }
          ],
          "scatter3d": [
           {
            "line": {
             "colorbar": {
              "outlinewidth": 0,
              "ticks": ""
             }
            },
            "marker": {
             "colorbar": {
              "outlinewidth": 0,
              "ticks": ""
             }
            },
            "type": "scatter3d"
           }
          ],
          "scattercarpet": [
           {
            "marker": {
             "colorbar": {
              "outlinewidth": 0,
              "ticks": ""
             }
            },
            "type": "scattercarpet"
           }
          ],
          "scattergeo": [
           {
            "marker": {
             "colorbar": {
              "outlinewidth": 0,
              "ticks": ""
             }
            },
            "type": "scattergeo"
           }
          ],
          "scattergl": [
           {
            "marker": {
             "colorbar": {
              "outlinewidth": 0,
              "ticks": ""
             }
            },
            "type": "scattergl"
           }
          ],
          "scattermapbox": [
           {
            "marker": {
             "colorbar": {
              "outlinewidth": 0,
              "ticks": ""
             }
            },
            "type": "scattermapbox"
           }
          ],
          "scatterpolar": [
           {
            "marker": {
             "colorbar": {
              "outlinewidth": 0,
              "ticks": ""
             }
            },
            "type": "scatterpolar"
           }
          ],
          "scatterpolargl": [
           {
            "marker": {
             "colorbar": {
              "outlinewidth": 0,
              "ticks": ""
             }
            },
            "type": "scatterpolargl"
           }
          ],
          "scatterternary": [
           {
            "marker": {
             "colorbar": {
              "outlinewidth": 0,
              "ticks": ""
             }
            },
            "type": "scatterternary"
           }
          ],
          "surface": [
           {
            "colorbar": {
             "outlinewidth": 0,
             "ticks": ""
            },
            "colorscale": [
             [
              0,
              "#0d0887"
             ],
             [
              0.1111111111111111,
              "#46039f"
             ],
             [
              0.2222222222222222,
              "#7201a8"
             ],
             [
              0.3333333333333333,
              "#9c179e"
             ],
             [
              0.4444444444444444,
              "#bd3786"
             ],
             [
              0.5555555555555556,
              "#d8576b"
             ],
             [
              0.6666666666666666,
              "#ed7953"
             ],
             [
              0.7777777777777778,
              "#fb9f3a"
             ],
             [
              0.8888888888888888,
              "#fdca26"
             ],
             [
              1,
              "#f0f921"
             ]
            ],
            "type": "surface"
           }
          ],
          "table": [
           {
            "cells": {
             "fill": {
              "color": "#EBF0F8"
             },
             "line": {
              "color": "white"
             }
            },
            "header": {
             "fill": {
              "color": "#C8D4E3"
             },
             "line": {
              "color": "white"
             }
            },
            "type": "table"
           }
          ]
         },
         "layout": {
          "annotationdefaults": {
           "arrowcolor": "#2a3f5f",
           "arrowhead": 0,
           "arrowwidth": 1
          },
          "autotypenumbers": "strict",
          "coloraxis": {
           "colorbar": {
            "outlinewidth": 0,
            "ticks": ""
           }
          },
          "colorscale": {
           "diverging": [
            [
             0,
             "#8e0152"
            ],
            [
             0.1,
             "#c51b7d"
            ],
            [
             0.2,
             "#de77ae"
            ],
            [
             0.3,
             "#f1b6da"
            ],
            [
             0.4,
             "#fde0ef"
            ],
            [
             0.5,
             "#f7f7f7"
            ],
            [
             0.6,
             "#e6f5d0"
            ],
            [
             0.7,
             "#b8e186"
            ],
            [
             0.8,
             "#7fbc41"
            ],
            [
             0.9,
             "#4d9221"
            ],
            [
             1,
             "#276419"
            ]
           ],
           "sequential": [
            [
             0,
             "#0d0887"
            ],
            [
             0.1111111111111111,
             "#46039f"
            ],
            [
             0.2222222222222222,
             "#7201a8"
            ],
            [
             0.3333333333333333,
             "#9c179e"
            ],
            [
             0.4444444444444444,
             "#bd3786"
            ],
            [
             0.5555555555555556,
             "#d8576b"
            ],
            [
             0.6666666666666666,
             "#ed7953"
            ],
            [
             0.7777777777777778,
             "#fb9f3a"
            ],
            [
             0.8888888888888888,
             "#fdca26"
            ],
            [
             1,
             "#f0f921"
            ]
           ],
           "sequentialminus": [
            [
             0,
             "#0d0887"
            ],
            [
             0.1111111111111111,
             "#46039f"
            ],
            [
             0.2222222222222222,
             "#7201a8"
            ],
            [
             0.3333333333333333,
             "#9c179e"
            ],
            [
             0.4444444444444444,
             "#bd3786"
            ],
            [
             0.5555555555555556,
             "#d8576b"
            ],
            [
             0.6666666666666666,
             "#ed7953"
            ],
            [
             0.7777777777777778,
             "#fb9f3a"
            ],
            [
             0.8888888888888888,
             "#fdca26"
            ],
            [
             1,
             "#f0f921"
            ]
           ]
          },
          "colorway": [
           "#636efa",
           "#EF553B",
           "#00cc96",
           "#ab63fa",
           "#FFA15A",
           "#19d3f3",
           "#FF6692",
           "#B6E880",
           "#FF97FF",
           "#FECB52"
          ],
          "font": {
           "color": "#2a3f5f"
          },
          "geo": {
           "bgcolor": "white",
           "lakecolor": "white",
           "landcolor": "#E5ECF6",
           "showlakes": true,
           "showland": true,
           "subunitcolor": "white"
          },
          "hoverlabel": {
           "align": "left"
          },
          "hovermode": "closest",
          "mapbox": {
           "style": "light"
          },
          "paper_bgcolor": "white",
          "plot_bgcolor": "#E5ECF6",
          "polar": {
           "angularaxis": {
            "gridcolor": "white",
            "linecolor": "white",
            "ticks": ""
           },
           "bgcolor": "#E5ECF6",
           "radialaxis": {
            "gridcolor": "white",
            "linecolor": "white",
            "ticks": ""
           }
          },
          "scene": {
           "xaxis": {
            "backgroundcolor": "#E5ECF6",
            "gridcolor": "white",
            "gridwidth": 2,
            "linecolor": "white",
            "showbackground": true,
            "ticks": "",
            "zerolinecolor": "white"
           },
           "yaxis": {
            "backgroundcolor": "#E5ECF6",
            "gridcolor": "white",
            "gridwidth": 2,
            "linecolor": "white",
            "showbackground": true,
            "ticks": "",
            "zerolinecolor": "white"
           },
           "zaxis": {
            "backgroundcolor": "#E5ECF6",
            "gridcolor": "white",
            "gridwidth": 2,
            "linecolor": "white",
            "showbackground": true,
            "ticks": "",
            "zerolinecolor": "white"
           }
          },
          "shapedefaults": {
           "line": {
            "color": "#2a3f5f"
           }
          },
          "ternary": {
           "aaxis": {
            "gridcolor": "white",
            "linecolor": "white",
            "ticks": ""
           },
           "baxis": {
            "gridcolor": "white",
            "linecolor": "white",
            "ticks": ""
           },
           "bgcolor": "#E5ECF6",
           "caxis": {
            "gridcolor": "white",
            "linecolor": "white",
            "ticks": ""
           }
          },
          "title": {
           "x": 0.05
          },
          "xaxis": {
           "automargin": true,
           "gridcolor": "white",
           "linecolor": "white",
           "ticks": "",
           "title": {
            "standoff": 15
           },
           "zerolinecolor": "white",
           "zerolinewidth": 2
          },
          "yaxis": {
           "automargin": true,
           "gridcolor": "white",
           "linecolor": "white",
           "ticks": "",
           "title": {
            "standoff": 15
           },
           "zerolinecolor": "white",
           "zerolinewidth": 2
          }
         }
        }
       }
      }
     },
     "metadata": {},
     "output_type": "display_data"
    }
   ],
   "source": [
    "fig = go.Figure()\n",
    "fig.add_trace(go.Candlestick(\n",
    "    x = stocks_flot.Date, open = stocks_flot.mid_o, high=stocks_flot.mid_h, low = stocks_flot.mid_l, close = stocks_flot.mid_c\n",
    "))\n",
    "fig.show()"
   ]
  },
  {
   "cell_type": "code",
   "execution_count": 23,
   "metadata": {},
   "outputs": [
    {
     "data": {
      "text/plain": [
       "0     2024-04-01\n",
       "1     2024-04-02\n",
       "2     2024-04-03\n",
       "3     2024-04-04\n",
       "4     2024-04-05\n",
       "5     2024-04-08\n",
       "6     2024-04-09\n",
       "7     2024-04-10\n",
       "8     2024-04-11\n",
       "9     2024-04-12\n",
       "10    2024-04-15\n",
       "11    2024-04-16\n",
       "12    2024-04-17\n",
       "13    2024-04-18\n",
       "14    2024-04-19\n",
       "15    2024-04-22\n",
       "16    2024-04-23\n",
       "17    2024-04-24\n",
       "18    2024-04-25\n",
       "19    2024-04-26\n",
       "20    2024-04-29\n",
       "21    2024-04-30\n",
       "22    2024-05-01\n",
       "23    2024-05-02\n",
       "24    2024-05-03\n",
       "25    2024-05-06\n",
       "26    2024-05-07\n",
       "27    2024-05-08\n",
       "28    2024-05-09\n",
       "29    2024-05-10\n",
       "30    2024-05-13\n",
       "31    2024-05-14\n",
       "32    2024-05-15\n",
       "33    2024-05-16\n",
       "34    2024-05-17\n",
       "35    2024-05-20\n",
       "36    2024-05-21\n",
       "37    2024-05-22\n",
       "38    2024-05-23\n",
       "39    2024-05-24\n",
       "40    2024-05-28\n",
       "41    2024-05-29\n",
       "42    2024-05-30\n",
       "43    2024-05-31\n",
       "Name: Date, dtype: object"
      ]
     },
     "execution_count": 23,
     "metadata": {},
     "output_type": "execute_result"
    }
   ],
   "source": [
    "data = stocks_flot.Date\n",
    "data"
   ]
  },
  {
   "cell_type": "code",
   "execution_count": null,
   "metadata": {},
   "outputs": [],
   "source": []
  }
 ],
 "metadata": {
  "kernelspec": {
   "display_name": "venv",
   "language": "python",
   "name": "python3"
  },
  "language_info": {
   "codemirror_mode": {
    "name": "ipython",
    "version": 3
   },
   "file_extension": ".py",
   "mimetype": "text/x-python",
   "name": "python",
   "nbconvert_exporter": "python",
   "pygments_lexer": "ipython3",
   "version": "3.9.13"
  }
 },
 "nbformat": 4,
 "nbformat_minor": 2
}
